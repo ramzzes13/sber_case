{
  "nbformat": 4,
  "nbformat_minor": 0,
  "metadata": {
    "colab": {
      "provenance": [],
      "gpuType": "T4"
    },
    "kernelspec": {
      "name": "python3",
      "display_name": "Python 3"
    },
    "language_info": {
      "name": "python"
    },
    "accelerator": "GPU"
  },
  "cells": [
    {
      "cell_type": "code",
      "execution_count": 30,
      "metadata": {
        "id": "LWvmo112-7-x"
      },
      "outputs": [],
      "source": [
        "import pandas as pd"
      ]
    },
    {
      "cell_type": "code",
      "source": [
        "!pip install sentence-transformers"
      ],
      "metadata": {
        "id": "jV6F8BldxYMV"
      },
      "execution_count": null,
      "outputs": []
    },
    {
      "cell_type": "code",
      "source": [
        "df = pd.read_csv('./train_data_en.csv')\n"
      ],
      "metadata": {
        "id": "eboXombM_JhO"
      },
      "execution_count": 31,
      "outputs": []
    },
    {
      "cell_type": "code",
      "source": [
        "df.head()"
      ],
      "metadata": {
        "colab": {
          "base_uri": "https://localhost:8080/",
          "height": 275
        },
        "id": "JGjStzVew2kC",
        "outputId": "4411c7bc-710d-496a-a525-2817d14ab4e4"
      },
      "execution_count": 32,
      "outputs": [
        {
          "output_type": "execute_result",
          "data": {
            "text/plain": [
              "   Unnamed: 0                               Задача en  \\\n",
              "0        3839                  Prepare salted popcorn   \n",
              "1        4726                      Boil the potatoes.   \n",
              "2        1921                     Put the baby to bed   \n",
              "3        2067  Collect quail eggs from the farm barn.   \n",
              "4        1813                  Clean the refrigerator   \n",
              "\n",
              "                                       Обстановка en  \\\n",
              "0  The kitchen has a microwave, a bag of popcorn,...   \n",
              "1  kitchen, potatoes, drawer, pan, sink with tap,...   \n",
              "2  children's room, bed, blanket, pillow, favorit...   \n",
              "3  Farm, barn, quails, quail nests, quail eggs, t...   \n",
              "4  In the kitchen there is a refrigerator with fo...   \n",
              "\n",
              "                                 Оптимальный план en  \\\n",
              "0  Open the door. Enter the kitchen. Close the do...   \n",
              "1  Find a table. Find a saucepan on the table. Gr...   \n",
              "2  Open the door. Enter the children's room. Clos...   \n",
              "3  Find a barn on a farm. Walk to the barn. Find ...   \n",
              "4  Walk to the refrigerator. Unplug the refrigera...   \n",
              "\n",
              "                                  Предсказанный план  \\\n",
              "0    Walk to the microwave. Open the microwave. G...   \n",
              "1    Find a box. Open the box. Find potatoes. Gra...   \n",
              "2    Open the door. Enter the children's room. Cl...   \n",
              "3    Walk to the barn. Open the door. Enter the b...   \n",
              "4    Walk to the refrigerator. Unplug the refrige...   \n",
              "\n",
              "   Успех предсказанного плана  \n",
              "0                           1  \n",
              "1                           0  \n",
              "2                           0  \n",
              "3                           1  \n",
              "4                           0  "
            ],
            "text/html": [
              "\n",
              "  <div id=\"df-0fd626bd-124e-4968-a9eb-c7fb9a64c0af\" class=\"colab-df-container\">\n",
              "    <div>\n",
              "<style scoped>\n",
              "    .dataframe tbody tr th:only-of-type {\n",
              "        vertical-align: middle;\n",
              "    }\n",
              "\n",
              "    .dataframe tbody tr th {\n",
              "        vertical-align: top;\n",
              "    }\n",
              "\n",
              "    .dataframe thead th {\n",
              "        text-align: right;\n",
              "    }\n",
              "</style>\n",
              "<table border=\"1\" class=\"dataframe\">\n",
              "  <thead>\n",
              "    <tr style=\"text-align: right;\">\n",
              "      <th></th>\n",
              "      <th>Unnamed: 0</th>\n",
              "      <th>Задача en</th>\n",
              "      <th>Обстановка en</th>\n",
              "      <th>Оптимальный план en</th>\n",
              "      <th>Предсказанный план</th>\n",
              "      <th>Успех предсказанного плана</th>\n",
              "    </tr>\n",
              "  </thead>\n",
              "  <tbody>\n",
              "    <tr>\n",
              "      <th>0</th>\n",
              "      <td>3839</td>\n",
              "      <td>Prepare salted popcorn</td>\n",
              "      <td>The kitchen has a microwave, a bag of popcorn,...</td>\n",
              "      <td>Open the door. Enter the kitchen. Close the do...</td>\n",
              "      <td>Walk to the microwave. Open the microwave. G...</td>\n",
              "      <td>1</td>\n",
              "    </tr>\n",
              "    <tr>\n",
              "      <th>1</th>\n",
              "      <td>4726</td>\n",
              "      <td>Boil the potatoes.</td>\n",
              "      <td>kitchen, potatoes, drawer, pan, sink with tap,...</td>\n",
              "      <td>Find a table. Find a saucepan on the table. Gr...</td>\n",
              "      <td>Find a box. Open the box. Find potatoes. Gra...</td>\n",
              "      <td>0</td>\n",
              "    </tr>\n",
              "    <tr>\n",
              "      <th>2</th>\n",
              "      <td>1921</td>\n",
              "      <td>Put the baby to bed</td>\n",
              "      <td>children's room, bed, blanket, pillow, favorit...</td>\n",
              "      <td>Open the door. Enter the children's room. Clos...</td>\n",
              "      <td>Open the door. Enter the children's room. Cl...</td>\n",
              "      <td>0</td>\n",
              "    </tr>\n",
              "    <tr>\n",
              "      <th>3</th>\n",
              "      <td>2067</td>\n",
              "      <td>Collect quail eggs from the farm barn.</td>\n",
              "      <td>Farm, barn, quails, quail nests, quail eggs, t...</td>\n",
              "      <td>Find a barn on a farm. Walk to the barn. Find ...</td>\n",
              "      <td>Walk to the barn. Open the door. Enter the b...</td>\n",
              "      <td>1</td>\n",
              "    </tr>\n",
              "    <tr>\n",
              "      <th>4</th>\n",
              "      <td>1813</td>\n",
              "      <td>Clean the refrigerator</td>\n",
              "      <td>In the kitchen there is a refrigerator with fo...</td>\n",
              "      <td>Walk to the refrigerator. Unplug the refrigera...</td>\n",
              "      <td>Walk to the refrigerator. Unplug the refrige...</td>\n",
              "      <td>0</td>\n",
              "    </tr>\n",
              "  </tbody>\n",
              "</table>\n",
              "</div>\n",
              "    <div class=\"colab-df-buttons\">\n",
              "\n",
              "  <div class=\"colab-df-container\">\n",
              "    <button class=\"colab-df-convert\" onclick=\"convertToInteractive('df-0fd626bd-124e-4968-a9eb-c7fb9a64c0af')\"\n",
              "            title=\"Convert this dataframe to an interactive table.\"\n",
              "            style=\"display:none;\">\n",
              "\n",
              "  <svg xmlns=\"http://www.w3.org/2000/svg\" height=\"24px\" viewBox=\"0 -960 960 960\">\n",
              "    <path d=\"M120-120v-720h720v720H120Zm60-500h600v-160H180v160Zm220 220h160v-160H400v160Zm0 220h160v-160H400v160ZM180-400h160v-160H180v160Zm440 0h160v-160H620v160ZM180-180h160v-160H180v160Zm440 0h160v-160H620v160Z\"/>\n",
              "  </svg>\n",
              "    </button>\n",
              "\n",
              "  <style>\n",
              "    .colab-df-container {\n",
              "      display:flex;\n",
              "      gap: 12px;\n",
              "    }\n",
              "\n",
              "    .colab-df-convert {\n",
              "      background-color: #E8F0FE;\n",
              "      border: none;\n",
              "      border-radius: 50%;\n",
              "      cursor: pointer;\n",
              "      display: none;\n",
              "      fill: #1967D2;\n",
              "      height: 32px;\n",
              "      padding: 0 0 0 0;\n",
              "      width: 32px;\n",
              "    }\n",
              "\n",
              "    .colab-df-convert:hover {\n",
              "      background-color: #E2EBFA;\n",
              "      box-shadow: 0px 1px 2px rgba(60, 64, 67, 0.3), 0px 1px 3px 1px rgba(60, 64, 67, 0.15);\n",
              "      fill: #174EA6;\n",
              "    }\n",
              "\n",
              "    .colab-df-buttons div {\n",
              "      margin-bottom: 4px;\n",
              "    }\n",
              "\n",
              "    [theme=dark] .colab-df-convert {\n",
              "      background-color: #3B4455;\n",
              "      fill: #D2E3FC;\n",
              "    }\n",
              "\n",
              "    [theme=dark] .colab-df-convert:hover {\n",
              "      background-color: #434B5C;\n",
              "      box-shadow: 0px 1px 3px 1px rgba(0, 0, 0, 0.15);\n",
              "      filter: drop-shadow(0px 1px 2px rgba(0, 0, 0, 0.3));\n",
              "      fill: #FFFFFF;\n",
              "    }\n",
              "  </style>\n",
              "\n",
              "    <script>\n",
              "      const buttonEl =\n",
              "        document.querySelector('#df-0fd626bd-124e-4968-a9eb-c7fb9a64c0af button.colab-df-convert');\n",
              "      buttonEl.style.display =\n",
              "        google.colab.kernel.accessAllowed ? 'block' : 'none';\n",
              "\n",
              "      async function convertToInteractive(key) {\n",
              "        const element = document.querySelector('#df-0fd626bd-124e-4968-a9eb-c7fb9a64c0af');\n",
              "        const dataTable =\n",
              "          await google.colab.kernel.invokeFunction('convertToInteractive',\n",
              "                                                    [key], {});\n",
              "        if (!dataTable) return;\n",
              "\n",
              "        const docLinkHtml = 'Like what you see? Visit the ' +\n",
              "          '<a target=\"_blank\" href=https://colab.research.google.com/notebooks/data_table.ipynb>data table notebook</a>'\n",
              "          + ' to learn more about interactive tables.';\n",
              "        element.innerHTML = '';\n",
              "        dataTable['output_type'] = 'display_data';\n",
              "        await google.colab.output.renderOutput(dataTable, element);\n",
              "        const docLink = document.createElement('div');\n",
              "        docLink.innerHTML = docLinkHtml;\n",
              "        element.appendChild(docLink);\n",
              "      }\n",
              "    </script>\n",
              "  </div>\n",
              "\n",
              "\n",
              "<div id=\"df-6c2ffccd-4955-41b5-a740-d37446ca6a24\">\n",
              "  <button class=\"colab-df-quickchart\" onclick=\"quickchart('df-6c2ffccd-4955-41b5-a740-d37446ca6a24')\"\n",
              "            title=\"Suggest charts\"\n",
              "            style=\"display:none;\">\n",
              "\n",
              "<svg xmlns=\"http://www.w3.org/2000/svg\" height=\"24px\"viewBox=\"0 0 24 24\"\n",
              "     width=\"24px\">\n",
              "    <g>\n",
              "        <path d=\"M19 3H5c-1.1 0-2 .9-2 2v14c0 1.1.9 2 2 2h14c1.1 0 2-.9 2-2V5c0-1.1-.9-2-2-2zM9 17H7v-7h2v7zm4 0h-2V7h2v10zm4 0h-2v-4h2v4z\"/>\n",
              "    </g>\n",
              "</svg>\n",
              "  </button>\n",
              "\n",
              "<style>\n",
              "  .colab-df-quickchart {\n",
              "      --bg-color: #E8F0FE;\n",
              "      --fill-color: #1967D2;\n",
              "      --hover-bg-color: #E2EBFA;\n",
              "      --hover-fill-color: #174EA6;\n",
              "      --disabled-fill-color: #AAA;\n",
              "      --disabled-bg-color: #DDD;\n",
              "  }\n",
              "\n",
              "  [theme=dark] .colab-df-quickchart {\n",
              "      --bg-color: #3B4455;\n",
              "      --fill-color: #D2E3FC;\n",
              "      --hover-bg-color: #434B5C;\n",
              "      --hover-fill-color: #FFFFFF;\n",
              "      --disabled-bg-color: #3B4455;\n",
              "      --disabled-fill-color: #666;\n",
              "  }\n",
              "\n",
              "  .colab-df-quickchart {\n",
              "    background-color: var(--bg-color);\n",
              "    border: none;\n",
              "    border-radius: 50%;\n",
              "    cursor: pointer;\n",
              "    display: none;\n",
              "    fill: var(--fill-color);\n",
              "    height: 32px;\n",
              "    padding: 0;\n",
              "    width: 32px;\n",
              "  }\n",
              "\n",
              "  .colab-df-quickchart:hover {\n",
              "    background-color: var(--hover-bg-color);\n",
              "    box-shadow: 0 1px 2px rgba(60, 64, 67, 0.3), 0 1px 3px 1px rgba(60, 64, 67, 0.15);\n",
              "    fill: var(--button-hover-fill-color);\n",
              "  }\n",
              "\n",
              "  .colab-df-quickchart-complete:disabled,\n",
              "  .colab-df-quickchart-complete:disabled:hover {\n",
              "    background-color: var(--disabled-bg-color);\n",
              "    fill: var(--disabled-fill-color);\n",
              "    box-shadow: none;\n",
              "  }\n",
              "\n",
              "  .colab-df-spinner {\n",
              "    border: 2px solid var(--fill-color);\n",
              "    border-color: transparent;\n",
              "    border-bottom-color: var(--fill-color);\n",
              "    animation:\n",
              "      spin 1s steps(1) infinite;\n",
              "  }\n",
              "\n",
              "  @keyframes spin {\n",
              "    0% {\n",
              "      border-color: transparent;\n",
              "      border-bottom-color: var(--fill-color);\n",
              "      border-left-color: var(--fill-color);\n",
              "    }\n",
              "    20% {\n",
              "      border-color: transparent;\n",
              "      border-left-color: var(--fill-color);\n",
              "      border-top-color: var(--fill-color);\n",
              "    }\n",
              "    30% {\n",
              "      border-color: transparent;\n",
              "      border-left-color: var(--fill-color);\n",
              "      border-top-color: var(--fill-color);\n",
              "      border-right-color: var(--fill-color);\n",
              "    }\n",
              "    40% {\n",
              "      border-color: transparent;\n",
              "      border-right-color: var(--fill-color);\n",
              "      border-top-color: var(--fill-color);\n",
              "    }\n",
              "    60% {\n",
              "      border-color: transparent;\n",
              "      border-right-color: var(--fill-color);\n",
              "    }\n",
              "    80% {\n",
              "      border-color: transparent;\n",
              "      border-right-color: var(--fill-color);\n",
              "      border-bottom-color: var(--fill-color);\n",
              "    }\n",
              "    90% {\n",
              "      border-color: transparent;\n",
              "      border-bottom-color: var(--fill-color);\n",
              "    }\n",
              "  }\n",
              "</style>\n",
              "\n",
              "  <script>\n",
              "    async function quickchart(key) {\n",
              "      const quickchartButtonEl =\n",
              "        document.querySelector('#' + key + ' button');\n",
              "      quickchartButtonEl.disabled = true;  // To prevent multiple clicks.\n",
              "      quickchartButtonEl.classList.add('colab-df-spinner');\n",
              "      try {\n",
              "        const charts = await google.colab.kernel.invokeFunction(\n",
              "            'suggestCharts', [key], {});\n",
              "      } catch (error) {\n",
              "        console.error('Error during call to suggestCharts:', error);\n",
              "      }\n",
              "      quickchartButtonEl.classList.remove('colab-df-spinner');\n",
              "      quickchartButtonEl.classList.add('colab-df-quickchart-complete');\n",
              "    }\n",
              "    (() => {\n",
              "      let quickchartButtonEl =\n",
              "        document.querySelector('#df-6c2ffccd-4955-41b5-a740-d37446ca6a24 button');\n",
              "      quickchartButtonEl.style.display =\n",
              "        google.colab.kernel.accessAllowed ? 'block' : 'none';\n",
              "    })();\n",
              "  </script>\n",
              "</div>\n",
              "    </div>\n",
              "  </div>\n"
            ],
            "application/vnd.google.colaboratory.intrinsic+json": {
              "type": "dataframe",
              "variable_name": "df",
              "summary": "{\n  \"name\": \"df\",\n  \"rows\": 3383,\n  \"fields\": [\n    {\n      \"column\": \"Unnamed: 0\",\n      \"properties\": {\n        \"dtype\": \"number\",\n        \"std\": 1383,\n        \"min\": 0,\n        \"max\": 4832,\n        \"num_unique_values\": 3383,\n        \"samples\": [\n          4479,\n          75,\n          887\n        ],\n        \"semantic_type\": \"\",\n        \"description\": \"\"\n      }\n    },\n    {\n      \"column\": \"\\u0417\\u0430\\u0434\\u0430\\u0447\\u0430 en\",\n      \"properties\": {\n        \"dtype\": \"string\",\n        \"num_unique_values\": 3182,\n        \"samples\": [\n          \"Pour the powder into the sink.\",\n          \"Arrange delivery of parcels.\",\n          \"Clean the microwave from grease and stains\"\n        ],\n        \"semantic_type\": \"\",\n        \"description\": \"\"\n      }\n    },\n    {\n      \"column\": \"\\u041e\\u0431\\u0441\\u0442\\u0430\\u043d\\u043e\\u0432\\u043a\\u0430 en\",\n      \"properties\": {\n        \"dtype\": \"string\",\n        \"num_unique_values\": 3367,\n        \"samples\": [\n          \"Office building, front door with card reader, employees, visitors, video surveillance system, central security post. The front door is equipped with an access card reader. Employees and visitors use cards. The entire territory of the building is monitored by video cameras. A central security post controls access.\",\n          \"house, plants, pots, soil, watering can, spatula, trays. Plants on the windowsill. Pots and soil on a shelf. Spatula and trays in the closet.\",\n          \"Vegetables, fruits, refrigerated containers, refrigerated truck, market, buyers. Buyers expect a variety of vegetables and fruits.\"\n        ],\n        \"semantic_type\": \"\",\n        \"description\": \"\"\n      }\n    },\n    {\n      \"column\": \"\\u041e\\u043f\\u0442\\u0438\\u043c\\u0430\\u043b\\u044c\\u043d\\u044b\\u0439 \\u043f\\u043b\\u0430\\u043d en\",\n      \"properties\": {\n        \"dtype\": \"string\",\n        \"num_unique_values\": 3356,\n        \"samples\": [\n          \"Find a mechanic. Obtain from him flight documents indicating that the helicopter is ready to fly. Find a helicopter. Walk to the helicopter. Open the door for passengers. Find the boarding ladder. Lower the ladder. Find workers. Invite workers to board. Make sure all passengers are in the the helicopter. Find the stairs. Grab the ladder. Place the ladder into the helicopter cabin. Find the passenger door. Close the door. Find the cockpit door. Open the door. Sit in the the cockpit. Close the door. Find headphones. Put on headphones. Find the walkie-talkie. Switch on the radio. Report readiness for flight. Obtain permission to Grab off. Grab the helicopter into the air. Find your route. Send the helicopter to the oil rig. Fly up to the tower. Find a helipad. Contact the dispatcher. Inform the dispatcher that you are ready to land. Get permission. Land the helicopter on the helipad.\",\n          \"Find a table. Find a knife on the table. Grab the knife. Find a bowl of lamb on the table. Find the fat on the lamb. Use a knife to trim the fat from the lamb. Put the knife back. Place the fat on the table.\",\n          \"Walk to the refrigerator. Open the refrigerator. Find the cream. Grab the cream. Close the refrigerator. Walk to the table. Place the cream on the table. Find a bowl. Grab the bowl. Walk to the table. Place the bowl on the table. Grab the cream. Pour the cream into the bowl. Find the mixer .Grab the mixer.Walk to the table.Insert the mixer into the bowl with the cream.Switch on the mixer.Whip the cream until its volume increases several times in the the bowl.Switch off the mixer.Remove the mixer from the bowl.Put the mixer on the table.\"\n        ],\n        \"semantic_type\": \"\",\n        \"description\": \"\"\n      }\n    },\n    {\n      \"column\": \"\\u041f\\u0440\\u0435\\u0434\\u0441\\u043a\\u0430\\u0437\\u0430\\u043d\\u043d\\u044b\\u0439 \\u043f\\u043b\\u0430\\u043d\",\n      \"properties\": {\n        \"dtype\": \"string\",\n        \"num_unique_values\": 3365,\n        \"samples\": [\n          \"  Find the box. Open the box. Find a notebook in the the drawer. Grab a notebook. Close the box. Find a table. Place your notebook on the table. Find a pencil on the table. Grab a pencil. Find the notebook on the table. Open your notebook. Use a pencil to write a phrase in the your notebook. Close your notebook. Place your pencil on the table.\",\n          \"  Walk to the shelf. Find a brush. Grab a brush. Walk to the hood. Switch on the vacuum cleaner. Clean the hood from dust. Switch off the vacuum cleaner. Walk to the sink. Place the brush on the shelf. Find detergent. Grab some detergent. Walk to the hood. Apply detergent to the hood. Walk to the sink. Place detergent on the shelf. Find a sponge. Grab a sponge. Walk to the hood. Wash the hood with a sponge. Walk to sink. Place the sponge on the shelf. Find a rag. Grab a rag. Walk to the hood. Wipe the hood with a rag. Walk to the sink. Place a rag on the shelf.\",\n          \"  Conduct a survey of food service establishments to identify current sanitation practices. Determine the main risks to food safety. Develop a sanitation program that includes regular cleaning of the premises. Determine the frequency of cleaning. Determine the cleaning methods. Determine the necessary cleaning tools. Determine the necessary cleaning products. Determine the frequency of disinfection of surfaces. Determine the disinfectants used. Determine the frequency of checking the condition of the equipment. Determine the frequency of checking food storage conditions. Determine the frequency of checking compliance with food safety standards. Determine the frequency of checking staff compliance with sanitation standards. Determine the frequency of staff training. Determine the frequency of audits. Determine the frequency of program updates.\"\n        ],\n        \"semantic_type\": \"\",\n        \"description\": \"\"\n      }\n    },\n    {\n      \"column\": \"\\u0423\\u0441\\u043f\\u0435\\u0445 \\u043f\\u0440\\u0435\\u0434\\u0441\\u043a\\u0430\\u0437\\u0430\\u043d\\u043d\\u043e\\u0433\\u043e \\u043f\\u043b\\u0430\\u043d\\u0430\",\n      \"properties\": {\n        \"dtype\": \"number\",\n        \"std\": 0,\n        \"min\": 0,\n        \"max\": 1,\n        \"num_unique_values\": 2,\n        \"samples\": [\n          0,\n          1\n        ],\n        \"semantic_type\": \"\",\n        \"description\": \"\"\n      }\n    }\n  ]\n}"
            }
          },
          "metadata": {},
          "execution_count": 32
        }
      ]
    },
    {
      "cell_type": "code",
      "source": [
        "import os\n",
        "import re\n",
        "import zipfile\n",
        "import importlib\n",
        "\n",
        "import gdown\n",
        "import numpy as np\n",
        "import torch\n",
        "from natsort import natsorted\n",
        "from PIL import Image\n",
        "from torch.utils.data import Dataset\n",
        "from torchvision import transforms\n",
        "import gc\n",
        "import torch\n",
        "import torch\n",
        "import torch.nn.functional as F\n",
        "from torchvision import transforms\n",
        "from tqdm.auto import trange\n",
        "import matplotlib.pyplot as plt\n",
        "import numpy as np\n",
        "from tqdm import tqdm\n",
        "from  torch import nn\n",
        "import math\n",
        "import itertools\n",
        "import torchvision\n",
        "import numpy as np\n",
        "import matplotlib.pyplot as plt\n",
        "%matplotlib inline\n",
        "\n",
        "import torch\n",
        "import torch.optim as optim\n",
        "import torch.nn.functional as F\n",
        "import torch.nn.init as init\n",
        "from torch import nn\n",
        "from torch import distributions\n",
        "from torch.distributions import MultivariateNormal, Uniform, TransformedDistribution, SigmoidTransform\n",
        "from torch.nn.parameter import Parameter"
      ],
      "metadata": {
        "id": "Nz22m--IzClI"
      },
      "execution_count": 33,
      "outputs": []
    },
    {
      "cell_type": "code",
      "source": [
        "from sentence_transformers import SentenceTransformer, util\n",
        "device = torch.device(\"cuda\" if torch.cuda.is_available() else \"cpu\")\n",
        "model = SentenceTransformer(\"multi-qa-MiniLM-L6-cos-v1\",  device=device)\n",
        "\n",
        "model = model.to(device)"
      ],
      "metadata": {
        "id": "WWabV59HywxX"
      },
      "execution_count": 34,
      "outputs": []
    },
    {
      "cell_type": "code",
      "source": [
        "def transforms(df, train=True):\n",
        "    text_fields = ['Задача en', 'Обстановка en', 'Оптимальный план en', 'Предсказанный план']\n",
        "    emb = [model.encode(df[i]) for i in text_fields]\n",
        "    new_feature_1 = np.array([util.dot_score(emb[0][i], emb[-1][i]) for i in range(df.shape[0])])\n",
        "    new_feature_1 = np.squeeze(new_feature_1)\n",
        "    X = np.hstack(emb)\n",
        "    X = np.column_stack((X, new_feature_1))\n",
        "    y = df['Успех предсказанного плана']\n",
        "    return X, y"
      ],
      "metadata": {
        "id": "uwI6JPrl_sqR"
      },
      "execution_count": 71,
      "outputs": []
    },
    {
      "cell_type": "code",
      "source": [
        "X, y = transforms(df, True)"
      ],
      "metadata": {
        "id": "LYDBwCM21xXc"
      },
      "execution_count": 72,
      "outputs": []
    },
    {
      "cell_type": "code",
      "source": [
        "X.shape, y.shape"
      ],
      "metadata": {
        "colab": {
          "base_uri": "https://localhost:8080/"
        },
        "id": "Kuv0aKCt2K1Q",
        "outputId": "93a37381-ed65-413d-aa87-d23c60a54146"
      },
      "execution_count": 73,
      "outputs": [
        {
          "output_type": "execute_result",
          "data": {
            "text/plain": [
              "((3383, 1537), (3383,))"
            ]
          },
          "metadata": {},
          "execution_count": 73
        }
      ]
    },
    {
      "cell_type": "code",
      "source": [
        "test_df = pd.read_csv('./test_data_en.csv')\n",
        "\n",
        "X_test, y_test = transforms(df, False)"
      ],
      "metadata": {
        "id": "miPwQqfm3SrS"
      },
      "execution_count": 74,
      "outputs": []
    },
    {
      "cell_type": "code",
      "source": [
        "X_test.shape, y_test.shape"
      ],
      "metadata": {
        "id": "5Q3o9hrQ_NgA",
        "outputId": "89421245-6935-417c-a081-d0dc58012a01",
        "colab": {
          "base_uri": "https://localhost:8080/"
        }
      },
      "execution_count": 75,
      "outputs": [
        {
          "output_type": "execute_result",
          "data": {
            "text/plain": [
              "((3383, 1537), (3383,))"
            ]
          },
          "metadata": {},
          "execution_count": 75
        }
      ]
    },
    {
      "cell_type": "code",
      "source": [
        "from catboost import CatBoostClassifier\n",
        "from sklearn.metrics import accuracy_score\n",
        "\n",
        "catboost_params = {\n",
        "    'task_type': 'GPU',\n",
        "    'loss_function': 'Logloss',\n",
        "    'random_seed': 42,\n",
        "    'od_type': 'Iter',\n",
        "    'early_stopping_rounds': 300,\n",
        "    'random_strength': 0.5,\n",
        "    'verbose': 100,\n",
        "    'eval_metric': 'Accuracy',\n",
        "}\n",
        "\n",
        "cb = CatBoostClassifier(**catboost_params)\n",
        "\n",
        "cb.fit(X, y, eval_set=(X_test, y_test), use_best_model=True)"
      ],
      "metadata": {
        "colab": {
          "base_uri": "https://localhost:8080/"
        },
        "id": "w-CQL_CQ2PAz",
        "outputId": "e58e8457-d31a-4949-f494-74b9fc9dee49"
      },
      "execution_count": 76,
      "outputs": [
        {
          "output_type": "stream",
          "name": "stdout",
          "text": [
            "Learning rate set to 0.0642\n",
            "0:\tlearn: 0.6854863\ttest: 0.6854863\tbest: 0.6854863 (0)\ttotal: 198ms\tremaining: 3m 17s\n",
            "100:\tlearn: 0.7853976\ttest: 0.7853976\tbest: 0.7853976 (100)\ttotal: 9.87s\tremaining: 1m 27s\n",
            "200:\tlearn: 0.8962459\ttest: 0.8962459\tbest: 0.8962459 (200)\ttotal: 19.4s\tremaining: 1m 16s\n",
            "300:\tlearn: 0.9491576\ttest: 0.9491576\tbest: 0.9491576 (300)\ttotal: 29.2s\tremaining: 1m 7s\n",
            "400:\tlearn: 0.9769435\ttest: 0.9769435\tbest: 0.9769435 (400)\ttotal: 38.3s\tremaining: 57.2s\n",
            "500:\tlearn: 0.9926101\ttest: 0.9926101\tbest: 0.9926101 (499)\ttotal: 47.8s\tremaining: 47.6s\n",
            "600:\tlearn: 0.9979308\ttest: 0.9979308\tbest: 0.9979308 (569)\ttotal: 57.4s\tremaining: 38.1s\n",
            "700:\tlearn: 0.9991132\ttest: 0.9991132\tbest: 0.9991132 (675)\ttotal: 1m 7s\tremaining: 28.7s\n",
            "800:\tlearn: 1.0000000\ttest: 1.0000000\tbest: 1.0000000 (793)\ttotal: 1m 16s\tremaining: 19s\n",
            "900:\tlearn: 1.0000000\ttest: 1.0000000\tbest: 1.0000000 (793)\ttotal: 1m 25s\tremaining: 9.42s\n",
            "999:\tlearn: 1.0000000\ttest: 1.0000000\tbest: 1.0000000 (793)\ttotal: 1m 35s\tremaining: 0us\n",
            "bestTest = 1\n",
            "bestIteration = 793\n",
            "Shrink model to first 794 iterations.\n"
          ]
        },
        {
          "output_type": "execute_result",
          "data": {
            "text/plain": [
              "<catboost.core.CatBoostClassifier at 0x7fd635f482e0>"
            ]
          },
          "metadata": {},
          "execution_count": 76
        }
      ]
    },
    {
      "cell_type": "code",
      "source": [
        "from sklearn.metrics import accuracy_score\n",
        "\n",
        "predictions = cb.predict(X_test)\n",
        "\n",
        "accuracy = accuracy_score(y_test, predictions)\n",
        "print(\"Accuracy:\", accuracy)"
      ],
      "metadata": {
        "colab": {
          "base_uri": "https://localhost:8080/"
        },
        "id": "cGRdAEpN42in",
        "outputId": "5de7d6cb-7c74-47b2-aa69-705ea6ffaa37"
      },
      "execution_count": 77,
      "outputs": [
        {
          "output_type": "stream",
          "name": "stdout",
          "text": [
            "Accuracy: 1.0\n"
          ]
        }
      ]
    }
  ]
}